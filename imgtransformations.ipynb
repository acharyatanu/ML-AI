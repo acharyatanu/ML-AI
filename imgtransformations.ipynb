{
 "cells": [
  {
   "cell_type": "code",
   "execution_count": 1,
   "metadata": {},
   "outputs": [],
   "source": [
    "import cv2\n",
    "img = cv2.imread('dog1.jpg')\n",
    "img2 = cv2.imread('dog2.png')"
   ]
  },
  {
   "cell_type": "code",
   "execution_count": 2,
   "metadata": {},
   "outputs": [
    {
     "data": {
      "text/plain": [
       "((274, 184, 3), (1013, 920, 3))"
      ]
     },
     "execution_count": 2,
     "metadata": {},
     "output_type": "execute_result"
    }
   ],
   "source": [
    "img.shape , img2.shape"
   ]
  },
  {
   "cell_type": "code",
   "execution_count": 3,
   "metadata": {},
   "outputs": [],
   "source": [
    "img2 = cv2.resize(img2,(184,274), interpolation=cv2.INTER_CUBIC)"
   ]
  },
  {
   "cell_type": "code",
   "execution_count": 4,
   "metadata": {},
   "outputs": [
    {
     "data": {
      "text/plain": [
       "((274, 184, 3), (274, 184, 3))"
      ]
     },
     "execution_count": 4,
     "metadata": {},
     "output_type": "execute_result"
    }
   ],
   "source": [
    "img2.shape, img.shape"
   ]
  },
  {
   "cell_type": "code",
   "execution_count": 5,
   "metadata": {},
   "outputs": [],
   "source": [
    "dst = cv2.add(img,img2)\n",
    "cv2.imshow('Preview', dst)\n",
    "cv2.waitKey(0)\n",
    "cv2.destroyAllWindows()"
   ]
  },
  {
   "cell_type": "code",
   "execution_count": 6,
   "metadata": {},
   "outputs": [],
   "source": [
    "alpha= 1.5\n",
    "beta=10\n",
    "adjusted =cv2.convertScaleAbs(img2,alpha=alpha,beta=beta)\n",
    "cv2.imshow('adjusted', adjusted)\n",
    "cv2.waitKey(0)\n",
    "cv2.destroyAllWindows()"
   ]
  },
  {
   "cell_type": "code",
   "execution_count": 7,
   "metadata": {},
   "outputs": [],
   "source": [
    "# img2 = cv2.imread('yoo.jpg')\n",
    "# cv2.imshow('', img2)\n",
    "# cv2.waitKey(0)\n",
    "# cv2.destroyAllWindows()\n"
   ]
  },
  {
   "cell_type": "code",
   "execution_count": 8,
   "metadata": {},
   "outputs": [],
   "source": [
    "img_r2= cv2.resize(img, None,fx=1.5,fy=1,interpolation=cv2.INTER_CUBIC)\n",
    "cv2.imshow('', img_r2)\n",
    "cv2.waitKey(0)\n",
    "cv2.destroyAllWindows()"
   ]
  },
  {
   "cell_type": "code",
   "execution_count": 9,
   "metadata": {},
   "outputs": [],
   "source": [
    "import cv2\n",
    "from skimage.transform import rotate\n",
    "img = cv2.imread('dog1.jpg')\n",
    "image_rotated= rotate(img, angle=45 , resize=True)\n",
    "cv2.imshow('', image_rotated)\n",
    "cv2.waitKey(0)\n",
    "cv2.destroyAllWindows()"
   ]
  },
  {
   "cell_type": "code",
   "execution_count": 10,
   "metadata": {},
   "outputs": [
    {
     "data": {
      "text/plain": [
       "-1"
      ]
     },
     "execution_count": 10,
     "metadata": {},
     "output_type": "execute_result"
    }
   ],
   "source": [
    "from time import sleep\n",
    "for a in range(0,361,5):\n",
    "    img_rot = rotate(img,angle=a, resize=True)\n",
    "    cv2.imshow(\"\",img_rot)\n",
    "    cv2.waitKey(1)\n",
    "    sleep(0.1)  \n",
    "cv2.destroyAllWindows()\n",
    "cv2.waitKey(0)    "
   ]
  },
  {
   "cell_type": "code",
   "execution_count": 11,
   "metadata": {},
   "outputs": [
    {
     "data": {
      "text/plain": [
       "-1"
      ]
     },
     "execution_count": 11,
     "metadata": {},
     "output_type": "execute_result"
    }
   ],
   "source": [
    "from time import sleep\n",
    "import numpy as np\n",
    "for a in np.arange(0.1,3.0,0.1):\n",
    "    img_res = cv2.resize(img, None,fx=a, fy=a,interpolation=cv2.INTER_CUBIC)\n",
    "    cv2.imshow(\"\",img_res)\n",
    "    cv2.waitKey(1)\n",
    "    sleep(0.1)  \n",
    "cv2.destroyAllWindows()\n",
    "cv2.waitKey(0)    "
   ]
  },
  {
   "cell_type": "code",
   "execution_count": 57,
   "metadata": {},
   "outputs": [],
   "source": [
    "# def horizontal_flip(image):\n",
    "#     rows = len(image)\n",
    "#     cols = len(image[0])\n",
    "#     new_image = []\n",
    "#     for r in range(rows):\n",
    "#         new_row = []\n",
    "#         for c in range(0,cols,3):\n",
    "#             new_row = image[r][c:c+3] + new_row\n",
    "#         new_image.append(new_row)\n",
    "#     return new_image"
   ]
  },
  {
   "cell_type": "code",
   "execution_count": 12,
   "metadata": {},
   "outputs": [
    {
     "data": {
      "text/plain": [
       "-1"
      ]
     },
     "execution_count": 12,
     "metadata": {},
     "output_type": "execute_result"
    }
   ],
   "source": [
    "image= cv2.flip(img,0)\n",
    "cv2.imshow('preview',image)\n",
    "cv2.waitKey(0)"
   ]
  },
  {
   "cell_type": "code",
   "execution_count": null,
   "metadata": {},
   "outputs": [],
   "source": []
  }
 ],
 "metadata": {
  "kernelspec": {
   "display_name": "Python 3",
   "language": "python",
   "name": "python3"
  },
  "language_info": {
   "codemirror_mode": {
    "name": "ipython",
    "version": 3
   },
   "file_extension": ".py",
   "mimetype": "text/x-python",
   "name": "python",
   "nbconvert_exporter": "python",
   "pygments_lexer": "ipython3",
   "version": "3.10.10"
  },
  "orig_nbformat": 4
 },
 "nbformat": 4,
 "nbformat_minor": 2
}
