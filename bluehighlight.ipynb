{
 "cells": [
  {
   "cell_type": "code",
   "execution_count": 2,
   "metadata": {},
   "outputs": [],
   "source": [
    "import cv2\n",
    "import plotly\n",
    "import plotly.express as px\n",
    "import skimage\n"
   ]
  },
  {
   "cell_type": "code",
   "execution_count": 3,
   "metadata": {},
   "outputs": [],
   "source": [
    "vid=cv2.VideoCapture(0)\n",
    "while True:\n",
    "\n",
    "\n",
    "#img=skimage.data.astronaut()                                               #RGB\n",
    " flag,img=vid.read()\n",
    " img=cv2.cvtColor(img,cv2.COLOR_BGR2RGB)\n",
    " if flag:\n",
    "    img_p=cv2.subtract(img[:,:,-1],cv2.cvtColor(img,cv2.COLOR_RGB2GRAY))       #blue area highlighted with white and rest is black\n",
    "    th,img_p2=cv2.threshold(img_p,60,255,cv2.THRESH_BINARY)                    #to get a pure binary image\n",
    "    img_p3=skimage.morphology.remove_small_objects(img_p2.astype(bool),50)     #skimage use bool value for morphology so we astype the img_p2,morphology will see for continuous 50m pixel together and removeall othe rwhite pixels\n",
    "    img_p4=cv2.dilate(img_p3.astype('uint8'),cv2.getStructuringElement(cv2.MORPH_ELLIPSE,(10,10))).astype(bool)    #we have to use dialation approach here as no proper hole ids there in the badge img\n",
    "    img_p5=skimage.morphology.remove_small_holes(img_p4,2000)   \n",
    "    rp=skimage.measure.regionprops(skimage.measure.label(img_p5)) \n",
    "    img_preview=img.copy()                          #will give the region of the highligted image\n",
    "    if len(rp)>0:\n",
    "        (y1,x1,y2,x2)=rp[0].bbox\n",
    "        cv2.rectangle(img_preview,pt1=(x1,y1),pt2=(x2,y2),color=(255,255,0),thickness=3)\n",
    "\n",
    " #imshowPx(img_preview,cv=False,gray=True)\n",
    "        cv2.imshow('Preview',img_preview[:,:,::-1])\n",
    "        key=cv2.waitKey(1)\n",
    "        if key == ord('a'):\n",
    "            break\n",
    "cv2.destroyALlWindows()        \n",
    "cv2.waitKey(1)\n",
    "vid.release()"
   ]
  },
  {
   "cell_type": "code",
   "execution_count": null,
   "metadata": {},
   "outputs": [],
   "source": []
  }
 ],
 "metadata": {
  "kernelspec": {
   "display_name": "Python 3",
   "language": "python",
   "name": "python3"
  },
  "language_info": {
   "codemirror_mode": {
    "name": "ipython",
    "version": 3
   },
   "file_extension": ".py",
   "mimetype": "text/x-python",
   "name": "python",
   "nbconvert_exporter": "python",
   "pygments_lexer": "ipython3",
   "version": "3.10.10"
  },
  "orig_nbformat": 4
 },
 "nbformat": 4,
 "nbformat_minor": 2
}
