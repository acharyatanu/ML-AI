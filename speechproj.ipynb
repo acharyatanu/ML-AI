{
 "cells": [
  {
   "cell_type": "code",
   "execution_count": 18,
   "metadata": {},
   "outputs": [],
   "source": [
    "import nltk\n",
    "import pyttsx3\n",
    "import speech_recognition as sr\n",
    "import pyaudio"
   ]
  },
  {
   "cell_type": "code",
   "execution_count": 2,
   "metadata": {},
   "outputs": [],
   "source": [
    "from nltk.chat.util import Chat,reflections         #Chat is a class"
   ]
  },
  {
   "cell_type": "code",
   "execution_count": 19,
   "metadata": {},
   "outputs": [],
   "source": [
    "spEng=pyttsx3.init()"
   ]
  },
  {
   "cell_type": "code",
   "execution_count": 3,
   "metadata": {},
   "outputs": [
    {
     "data": {
      "text/plain": [
       "{'i am': 'you are',\n",
       " 'i was': 'you were',\n",
       " 'i': 'you',\n",
       " \"i'm\": 'you are',\n",
       " \"i'd\": 'you would',\n",
       " \"i've\": 'you have',\n",
       " \"i'll\": 'you will',\n",
       " 'my': 'your',\n",
       " 'you are': 'I am',\n",
       " 'you were': 'I was',\n",
       " \"you've\": 'I have',\n",
       " \"you'll\": 'I will',\n",
       " 'your': 'my',\n",
       " 'yours': 'mine',\n",
       " 'you': 'me',\n",
       " 'me': 'you'}"
      ]
     },
     "execution_count": 3,
     "metadata": {},
     "output_type": "execute_result"
    }
   ],
   "source": [
    "reflections           #some pronouns phrase library"
   ]
  },
  {
   "cell_type": "code",
   "execution_count": 14,
   "metadata": {},
   "outputs": [],
   "source": [
    "rules=[\n",
    "    #tuples(ques,list(answers))\n",
    "   (r'Whats the temprature (.*)',['I donot know %1','its 44 degree celcius',],),               #r is for raw string ,(.*) is for regular expression thta means anything can be added to the ques after temp\n",
    "   (r'How would I learn NLTK',['You may go to official documents',],),\n",
    "   (r'tell me somethimg new',['Hey tomorrow will bw better',],),\n",
    "]"
   ]
  },
  {
   "cell_type": "code",
   "execution_count": 13,
   "metadata": {},
   "outputs": [
    {
     "name": "stdout",
     "output_type": "stream",
     "text": [
      "Question: Whats the temprature today\n",
      "Answer:\n",
      "\t I donot know\n",
      "\t its 44 degree celcius\n",
      "--------------------\n",
      "Question: How would I learn NLTK\n",
      "Answer:\n",
      "\t You may go to official documents\n",
      "--------------------\n",
      "Question: tell me somethimg new\n",
      "Answer:\n",
      "\t Hey tomorrow will bw better\n",
      "--------------------\n"
     ]
    }
   ],
   "source": [
    "for que,ans in rules:\n",
    "    print('Question:', que)\n",
    "    print('Answer:')\n",
    "    for a in ans:\n",
    "        print('\\t',a)\n",
    "    print('-'*20)"
   ]
  },
  {
   "cell_type": "code",
   "execution_count": 15,
   "metadata": {},
   "outputs": [],
   "source": [
    "cb=Chat(rules,reflections)\n"
   ]
  },
  {
   "cell_type": "code",
   "execution_count": null,
   "metadata": {},
   "outputs": [],
   "source": [
    "question=input('ASK:')\n",
    "resp=cb.respond(question)\n",
    "print(resp)"
   ]
  },
  {
   "cell_type": "code",
   "execution_count": 20,
   "metadata": {},
   "outputs": [],
   "source": [
    "recognizer=sr.Recognizer()"
   ]
  },
  {
   "cell_type": "code",
   "execution_count": 27,
   "metadata": {},
   "outputs": [
    {
     "name": "stdout",
     "output_type": "stream",
     "text": [
      "Say what is the temperature today\n"
     ]
    }
   ],
   "source": [
    "\n",
    "with sr.Microphone() as mic:\n",
    "    print('Say',end=' ')\n",
    "    audio=recognizer.listen(mic,timeout=1,phrase_time_limit=5)\n",
    "    try:\n",
    "        text=recognizer.recognize_google(audio)\n",
    "        print(text)\n",
    "        resp=cb.respond(text)\n",
    "        spEng.say(resp)\n",
    "        spEng.runAndWait()\n",
    "    except Exception as err:\n",
    "        print('Could not recognise')\n"
   ]
  },
  {
   "cell_type": "code",
   "execution_count": 10,
   "metadata": {},
   "outputs": [],
   "source": [
    "#cb.converse()     input and respond inbuilt h but thn programmer ka control nahi rehta "
   ]
  },
  {
   "cell_type": "code",
   "execution_count": 22,
   "metadata": {},
   "outputs": [],
   "source": [
    "#Regular Expression\n",
    "#()   capture & Group\n",
    "#.    Any character except newline\n",
    "#*    zero or more occurences of something\n",
    "#[]   set of characters      \n",
    "#a-z  all small alphabets\n",
    "#A-z  all captial alphabets\n",
    "#0-9  all numbers\n",
    "#^    starting only                                 ^my the sentence starting with my only\n",
    "#$    end with                                      $ do$ do is at last or not \n",
    "#?    zero or one occurence only                    to limit occurence of word\n",
    "#+    one or more occurences         \n",
    "#{}   exact number of occurence                     [a-z]{3}\n",
    "#\\w   only word characters alphabet numbers and _\n",
    "#\\W   not word characters"
   ]
  },
  {
   "cell_type": "code",
   "execution_count": 24,
   "metadata": {},
   "outputs": [
    {
     "name": "stdout",
     "output_type": "stream",
     "text": [
      "Collecting flask\n",
      "  Downloading Flask-2.3.2-py3-none-any.whl (96 kB)\n",
      "     -------------------------------------- 96.9/96.9 kB 179.0 kB/s eta 0:00:00\n",
      "Collecting blinker>=1.6.2\n",
      "  Downloading blinker-1.6.2-py3-none-any.whl (13 kB)\n",
      "Requirement already satisfied: click>=8.1.3 in c:\\users\\tanu\\appdata\\local\\programs\\python\\python310\\lib\\site-packages (from flask) (8.1.3)\n",
      "Collecting Werkzeug>=2.3.3\n",
      "  Downloading Werkzeug-2.3.4-py3-none-any.whl (242 kB)\n",
      "     ------------------------------------ 242.5/242.5 kB 330.3 kB/s eta 0:00:00\n",
      "Collecting Jinja2>=3.1.2\n",
      "  Downloading Jinja2-3.1.2-py3-none-any.whl (133 kB)\n",
      "     -------------------------------------- 133.1/133.1 kB 7.7 MB/s eta 0:00:00\n",
      "Collecting itsdangerous>=2.1.2\n",
      "  Downloading itsdangerous-2.1.2-py3-none-any.whl (15 kB)\n",
      "Requirement already satisfied: colorama in c:\\users\\tanu\\appdata\\roaming\\python\\python310\\site-packages (from click>=8.1.3->flask) (0.4.6)\n",
      "Collecting MarkupSafe>=2.0\n",
      "  Downloading MarkupSafe-2.1.2-cp310-cp310-win_amd64.whl (16 kB)\n",
      "Installing collected packages: MarkupSafe, itsdangerous, blinker, Werkzeug, Jinja2, flask\n",
      "Successfully installed Jinja2-3.1.2 MarkupSafe-2.1.2 Werkzeug-2.3.4 blinker-1.6.2 flask-2.3.2 itsdangerous-2.1.2\n"
     ]
    },
    {
     "name": "stderr",
     "output_type": "stream",
     "text": [
      "\n",
      "[notice] A new release of pip available: 22.3.1 -> 23.1.2\n",
      "[notice] To update, run: python.exe -m pip install --upgrade pip\n"
     ]
    }
   ],
   "source": [
    "#flask -web framework\n",
    "!python  -m pip install flask"
   ]
  },
  {
   "cell_type": "code",
   "execution_count": 26,
   "metadata": {},
   "outputs": [],
   "source": [
    "import flask"
   ]
  },
  {
   "cell_type": "code",
   "execution_count": null,
   "metadata": {},
   "outputs": [],
   "source": []
  }
 ],
 "metadata": {
  "kernelspec": {
   "display_name": "Python 3",
   "language": "python",
   "name": "python3"
  },
  "language_info": {
   "codemirror_mode": {
    "name": "ipython",
    "version": 3
   },
   "file_extension": ".py",
   "mimetype": "text/x-python",
   "name": "python",
   "nbconvert_exporter": "python",
   "pygments_lexer": "ipython3",
   "version": "3.10.10"
  },
  "orig_nbformat": 4
 },
 "nbformat": 4,
 "nbformat_minor": 2
}
