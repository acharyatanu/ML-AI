{
 "cells": [
  {
   "cell_type": "code",
   "execution_count": 1,
   "metadata": {},
   "outputs": [],
   "source": [
    "#ACTUAL Programming\n",
    "#logics\n",
    "#1.condition\n",
    "#2.loops\n",
    "#3.errors\n",
    "#4.functions\n",
    "#5.classes\n",
    "#6.Libraries\n",
    "\n",
    "\n",
    "\n",
    "#conditional satatement\n",
    "#1.if-elif-else\n",
    "#looping\n",
    "#1.while-else\n",
    "#2.for-else\n",
    "#continue,break\n",
    "#error handling\n",
    "#try-except-else-finally\n",
    "#classes"
   ]
  },
  {
   "cell_type": "code",
   "execution_count": 2,
   "metadata": {},
   "outputs": [
    {
     "name": "stdout",
     "output_type": "stream",
     "text": [
      "hi\n",
      "balpreet\n",
      "bharti\n"
     ]
    }
   ],
   "source": [
    "#Suites in python\n",
    "#statement:\n",
    "    #content\n",
    "    #content\n",
    "#Statement2:\n",
    "    #content\n",
    "\n",
    "a=10\n",
    "if(a>5):\n",
    "    print(\"hi\")\n",
    "    if(a<100):\n",
    "        print(\"balpreet\")\n",
    "    print(\"bharti\")\n",
    "elif(a<-20):\n",
    "    print(\"Naman\")\n",
    "else:\n",
    "    print(\"Manu\")\n"
   ]
  },
  {
   "cell_type": "code",
   "execution_count": 1,
   "metadata": {},
   "outputs": [],
   "source": [
    "a=20"
   ]
  },
  {
   "cell_type": "code",
   "execution_count": 2,
   "metadata": {},
   "outputs": [
    {
     "name": "stdout",
     "output_type": "stream",
     "text": [
      "*\n",
      "**\n",
      "***\n",
      "****\n",
      "*****\n",
      "******\n",
      "*******\n",
      "********\n",
      "*********\n",
      "**********\n"
     ]
    }
   ],
   "source": [
    "for i in range(1,11):\n",
    "    print(i*'*')"
   ]
  },
  {
   "cell_type": "code",
   "execution_count": null,
   "metadata": {},
   "outputs": [],
   "source": [
    "#syntax of for in python\n",
    "#for-each\n",
    "#for onject in collection\n",
    "#range() function for limit till for loop will continue args as as slicing \n"
   ]
  },
  {
   "cell_type": "code",
   "execution_count": 4,
   "metadata": {},
   "outputs": [
    {
     "data": {
      "text/plain": [
       "[8, 'hihi', 'nicenice', 70]"
      ]
     },
     "execution_count": 4,
     "metadata": {},
     "output_type": "execute_result"
    }
   ],
   "source": [
    "\n",
    "a=[4,'hi','nice',35]\n",
    "b=[]\n",
    "#method 1\n",
    "for val in a:\n",
    "    b.append(val*2)\n",
    "b"
   ]
  },
  {
   "cell_type": "code",
   "execution_count": null,
   "metadata": {},
   "outputs": [],
   "source": [
    "#method 2\n",
    "#Comprehension\n",
    "#for loop statements which are one liner \n",
    "\n",
    "\n",
    "#list comprehension \n",
    "#[output for-loop]-map\n",
    "#[output for loop if condition]-filter\n",
    "#dictionary compe\n",
    "#{key_op:value_op for-loop}\n",
    "#set compr\n",
    "#{output for-loop}\n",
    "\n",
    "\n",
    "b=[ for val in a]"
   ]
  },
  {
   "cell_type": "code",
   "execution_count": 2,
   "metadata": {},
   "outputs": [
    {
     "data": {
      "text/plain": [
       "[4, 'hi', 'nice', 35, 4, 'hi', 'nice', 35]"
      ]
     },
     "execution_count": 2,
     "metadata": {},
     "output_type": "execute_result"
    }
   ],
   "source": [
    "a*2"
   ]
  },
  {
   "cell_type": "code",
   "execution_count": 5,
   "metadata": {},
   "outputs": [],
   "source": [
    "k=[4,7,3,67,34,2,4,45,22,11,9,8]"
   ]
  },
  {
   "cell_type": "code",
   "execution_count": 6,
   "metadata": {},
   "outputs": [
    {
     "data": {
      "text/plain": [
       "[4, 34, 2, 4, 22, 8]"
      ]
     },
     "execution_count": 6,
     "metadata": {},
     "output_type": "execute_result"
    }
   ],
   "source": [
    "p=[val for val in k if val%2==0]\n",
    "p"
   ]
  },
  {
   "cell_type": "code",
   "execution_count": 8,
   "metadata": {},
   "outputs": [
    {
     "data": {
      "text/plain": [
       "[34, 22]"
      ]
     },
     "execution_count": 8,
     "metadata": {},
     "output_type": "execute_result"
    }
   ],
   "source": [
    "t=[val for val in k if not val%2 and val>10]\n",
    "t"
   ]
  },
  {
   "cell_type": "code",
   "execution_count": 10,
   "metadata": {},
   "outputs": [],
   "source": [
    "#for using conditonal ooperator in python\n",
    "#do this if condn true else do this"
   ]
  },
  {
   "cell_type": "code",
   "execution_count": 15,
   "metadata": {},
   "outputs": [
    {
     "name": "stdout",
     "output_type": "stream",
     "text": [
      "false\n",
      "false\n"
     ]
    }
   ],
   "source": [
    "p=[val*2 if val %2==1 else (val//2 if val<20 else print('false') )for val in k]"
   ]
  },
  {
   "cell_type": "code",
   "execution_count": 18,
   "metadata": {},
   "outputs": [
    {
     "data": {
      "text/plain": [
       "{4: 16, 34: 1156, 2: 4, 22: 484, 8: 64}"
      ]
     },
     "execution_count": 18,
     "metadata": {},
     "output_type": "execute_result"
    }
   ],
   "source": [
    "m={val:val**2 for val in k if val%2==0}\n",
    "m"
   ]
  },
  {
   "cell_type": "code",
   "execution_count": 19,
   "metadata": {},
   "outputs": [
    {
     "name": "stdout",
     "output_type": "stream",
     "text": [
      "4\n",
      "34\n",
      "2\n",
      "22\n",
      "8\n"
     ]
    }
   ],
   "source": [
    "for i in m:   #gives keys only\n",
    "    print(i)"
   ]
  },
  {
   "cell_type": "code",
   "execution_count": 21,
   "metadata": {},
   "outputs": [
    {
     "name": "stdout",
     "output_type": "stream",
     "text": [
      "4 16\n",
      "34 1156\n",
      "2 4\n",
      "22 484\n",
      "8 64\n"
     ]
    }
   ],
   "source": [
    "for i,j in m.items():\n",
    "    print(i,j)"
   ]
  },
  {
   "cell_type": "code",
   "execution_count": null,
   "metadata": {},
   "outputs": [],
   "source": []
  }
 ],
 "metadata": {
  "kernelspec": {
   "display_name": "Python 3",
   "language": "python",
   "name": "python3"
  },
  "language_info": {
   "codemirror_mode": {
    "name": "ipython",
    "version": 3
   },
   "file_extension": ".py",
   "mimetype": "text/x-python",
   "name": "python",
   "nbconvert_exporter": "python",
   "pygments_lexer": "ipython3",
   "version": "3.10.10"
  },
  "orig_nbformat": 4
 },
 "nbformat": 4,
 "nbformat_minor": 2
}
