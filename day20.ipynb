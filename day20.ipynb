{
 "cells": [
  {
   "cell_type": "code",
   "execution_count": 1,
   "metadata": {},
   "outputs": [],
   "source": [
    "import nltk\n",
    "#nltk.download('all')"
   ]
  },
  {
   "cell_type": "code",
   "execution_count": 2,
   "metadata": {},
   "outputs": [],
   "source": [
    "from nltk.chat.util import Chat, reflections"
   ]
  },
  {
   "cell_type": "code",
   "execution_count": 3,
   "metadata": {},
   "outputs": [],
   "source": [
    "#Rules for chat \n",
    "rules = [\n",
    "    (r\"(hello|hey|hi|hye)\",[\"hi\", \"hello\"]),\n",
    "    (r\".*(ac|AC).* is not work.*\",[\"turn on the fan\", \"it's Jecrc\"])\n",
    "]"
   ]
  },
  {
   "cell_type": "code",
   "execution_count": 4,
   "metadata": {},
   "outputs": [
    {
     "name": "stdout",
     "output_type": "stream",
     "text": [
      "question: (hello|hey|hi|hye)\n",
      "Answer:\n",
      "\t hi\n",
      "****************\n",
      "\t hello\n",
      "****************\n",
      "question: .*(ac|AC).* is not work.*\n",
      "Answer:\n",
      "\t turn on the fan\n",
      "****************\n",
      "\t it's Jecrc\n",
      "****************\n"
     ]
    }
   ],
   "source": [
    "for q,a in rules:\n",
    "    print(\"question:\",q)\n",
    "    print(\"Answer:\")\n",
    "    for ans in a :\n",
    "        print(\"\\t\",ans)\n",
    "        print(\"*\"*16)"
   ]
  },
  {
   "cell_type": "code",
   "execution_count": 5,
   "metadata": {},
   "outputs": [],
   "source": [
    "cb = Chat(rules)"
   ]
  },
  {
   "cell_type": "code",
   "execution_count": 6,
   "metadata": {},
   "outputs": [
    {
     "data": {
      "text/plain": [
       "nltk.chat.util.Chat"
      ]
     },
     "execution_count": 6,
     "metadata": {},
     "output_type": "execute_result"
    }
   ],
   "source": [
    "type(cb)"
   ]
  },
  {
   "cell_type": "code",
   "execution_count": 7,
   "metadata": {},
   "outputs": [
    {
     "data": {
      "text/plain": [
       "'hi'"
      ]
     },
     "execution_count": 7,
     "metadata": {},
     "output_type": "execute_result"
    }
   ],
   "source": [
    "cb.respond(\"hello\")"
   ]
  },
  {
   "cell_type": "code",
   "execution_count": 8,
   "metadata": {},
   "outputs": [],
   "source": [
    "#cb.converse()"
   ]
  },
  {
   "cell_type": "code",
   "execution_count": 9,
   "metadata": {},
   "outputs": [
    {
     "name": "stdout",
     "output_type": "stream",
     "text": [
      "None\n"
     ]
    }
   ],
   "source": [
    "question = input(\"what's your question? \")\n",
    "resp = cb.respond(question)\n",
    "print(resp)\n"
   ]
  },
  {
   "cell_type": "code",
   "execution_count": 28,
   "metadata": {},
   "outputs": [
    {
     "name": "stdout",
     "output_type": "stream",
     "text": [
      "mic is open now\n",
      "hello\n"
     ]
    }
   ],
   "source": [
    "import pyttsx3\n",
    "import speech_recognition as sr\n",
    "\n",
    "speng=pyttsx3.init()\n",
    "speng.setProperty('rate',130)\n",
    "recognizer = sr.Recognizer()\n",
    "\n",
    "with sr.Microphone() as mic:\n",
    "    print(\"mic is open now\")\n",
    "    audio = recognizer.listen(mic, timeout=1, phrase_time_limit=3)\n",
    "    try:\n",
    "        text = recognizer.recognize_google(audio)\n",
    "        print(text)\n",
    "        speng.say(text)\n",
    "        speng.runAndWait()\n",
    "    except Exception as error:\n",
    "        print(error)\n",
    "        print(\"not able to recognize\")"
   ]
  },
  {
   "cell_type": "code",
   "execution_count": 14,
   "metadata": {},
   "outputs": [
    {
     "data": {
      "text/plain": [
       "[<pyttsx3.voice.Voice at 0x242e09125c0>,\n",
       " <pyttsx3.voice.Voice at 0x242e1407130>]"
      ]
     },
     "execution_count": 14,
     "metadata": {},
     "output_type": "execute_result"
    }
   ],
   "source": [
    "speng.getProperty('voices')"
   ]
  },
  {
   "cell_type": "code",
   "execution_count": 22,
   "metadata": {},
   "outputs": [
    {
     "name": "stdout",
     "output_type": "stream",
     "text": [
      "voice:\n",
      "idHKEY_LOCAL_MACHINE\\SOFTWARE\\Microsoft\\Speech\\Voices\\Tokens\\TTS_MS_EN-US_DAVID_11.0\n",
      "nameMicrosoft David Desktop - English (United States)\n",
      "genderNone\n",
      "voice:\n",
      "idHKEY_LOCAL_MACHINE\\SOFTWARE\\Microsoft\\Speech\\Voices\\Tokens\\TTS_MS_EN-US_ZIRA_11.0\n",
      "nameMicrosoft Zira Desktop - English (United States)\n",
      "genderNone\n"
     ]
    }
   ],
   "source": [
    "voices = speng.getProperty('voices')\n",
    "for voice in voices:\n",
    "    print(\"voice:\")\n",
    "    print(f\"id{voice.id}\")\n",
    "\n",
    "    print(f\"name{voice.name}\")\n",
    "    print(f\"gender{voice.gender}\")\n",
    "\n"
   ]
  },
  {
   "cell_type": "code",
   "execution_count": 23,
   "metadata": {},
   "outputs": [],
   "source": [
    "voiceid=voices[1].id"
   ]
  },
  {
   "cell_type": "code",
   "execution_count": 24,
   "metadata": {},
   "outputs": [],
   "source": [
    "speng.setProperty('voice',voiceid)"
   ]
  },
  {
   "cell_type": "code",
   "execution_count": null,
   "metadata": {},
   "outputs": [],
   "source": []
  }
 ],
 "metadata": {
  "kernelspec": {
   "display_name": "Python 3",
   "language": "python",
   "name": "python3"
  },
  "language_info": {
   "codemirror_mode": {
    "name": "ipython",
    "version": 3
   },
   "file_extension": ".py",
   "mimetype": "text/x-python",
   "name": "python",
   "nbconvert_exporter": "python",
   "pygments_lexer": "ipython3",
   "version": "3.10.10"
  },
  "orig_nbformat": 4
 },
 "nbformat": 4,
 "nbformat_minor": 2
}
